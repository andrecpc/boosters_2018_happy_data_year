{
 "cells": [
  {
   "cell_type": "code",
   "execution_count": 1,
   "metadata": {},
   "outputs": [
    {
     "ename": "ModuleNotFoundError",
     "evalue": "No module named 'geocoder'",
     "output_type": "error",
     "traceback": [
      "\u001b[1;31m---------------------------------------------------------------------------\u001b[0m",
      "\u001b[1;31mModuleNotFoundError\u001b[0m                       Traceback (most recent call last)",
      "\u001b[1;32m<ipython-input-1-db66cd3f09b7>\u001b[0m in \u001b[0;36m<module>\u001b[1;34m()\u001b[0m\n\u001b[0;32m      3\u001b[0m \u001b[0mpd\u001b[0m\u001b[1;33m.\u001b[0m\u001b[0moptions\u001b[0m\u001b[1;33m.\u001b[0m\u001b[0mdisplay\u001b[0m\u001b[1;33m.\u001b[0m\u001b[0mmax_columns\u001b[0m \u001b[1;33m=\u001b[0m \u001b[1;32mNone\u001b[0m\u001b[1;33m\u001b[0m\u001b[0m\n\u001b[0;32m      4\u001b[0m \u001b[1;32mimport\u001b[0m \u001b[0mmatplotlib\u001b[0m\u001b[1;33m.\u001b[0m\u001b[0mpyplot\u001b[0m \u001b[1;32mas\u001b[0m \u001b[0mplt\u001b[0m\u001b[1;33m\u001b[0m\u001b[0m\n\u001b[1;32m----> 5\u001b[1;33m \u001b[1;32mimport\u001b[0m \u001b[0mgeocoder\u001b[0m\u001b[1;33m\u001b[0m\u001b[0m\n\u001b[0m\u001b[0;32m      6\u001b[0m \u001b[1;32mimport\u001b[0m \u001b[0mreverse_geocoder\u001b[0m \u001b[1;32mas\u001b[0m \u001b[0mrg\u001b[0m\u001b[1;33m\u001b[0m\u001b[0m\n\u001b[0;32m      7\u001b[0m \u001b[1;32mfrom\u001b[0m \u001b[0mmath\u001b[0m \u001b[1;32mimport\u001b[0m \u001b[0msin\u001b[0m\u001b[1;33m,\u001b[0m \u001b[0mcos\u001b[0m\u001b[1;33m,\u001b[0m \u001b[0msqrt\u001b[0m\u001b[1;33m,\u001b[0m \u001b[0matan2\u001b[0m\u001b[1;33m,\u001b[0m \u001b[0mradians\u001b[0m\u001b[1;33m\u001b[0m\u001b[0m\n",
      "\u001b[1;31mModuleNotFoundError\u001b[0m: No module named 'geocoder'"
     ]
    }
   ],
   "source": [
    "import pandas as pd\n",
    "import numpy as np\n",
    "pd.options.display.max_columns = None\n",
    "import matplotlib.pyplot as plt\n",
    "import geocoder\n",
    "import reverse_geocoder as rg\n",
    "from math import sin, cos, sqrt, atan2, radians"
   ]
  },
  {
   "cell_type": "code",
   "execution_count": 2,
   "metadata": {
    "collapsed": true
   },
   "outputs": [],
   "source": [
    "train = pd.read_csv('train.csv', index_col=0)\n",
    "test = pd.read_csv('test.csv', index_col=0)\n",
    "train['isTrain'] = True\n",
    "test['isTrain'] = False\n",
    "data = train.append(test, sort=False)"
   ]
  },
  {
   "cell_type": "code",
   "execution_count": 24,
   "metadata": {
    "collapsed": true
   },
   "outputs": [],
   "source": [
    "def get_coords(x, y):\n",
    "    if pd.isnull(x) | pd.isnull(y):\n",
    "        return 'nan'\n",
    "    else:\n",
    "        coordinates = (x, y)\n",
    "        results = rg.search(coordinates)\n",
    "        return results"
   ]
  },
  {
   "cell_type": "code",
   "execution_count": 91,
   "metadata": {
    "collapsed": true
   },
   "outputs": [],
   "source": [
    "z = data.copy()"
   ]
  },
  {
   "cell_type": "code",
   "execution_count": 25,
   "metadata": {
    "collapsed": true
   },
   "outputs": [],
   "source": [
    "z['test'] = z.apply(lambda x: get_coords(x.lat, x.long), axis=1)\n",
    "z.to_csv('new_data.csv')"
   ]
  },
  {
   "cell_type": "code",
   "execution_count": 93,
   "metadata": {
    "collapsed": true
   },
   "outputs": [],
   "source": [
    "new_df = pd.read_csv('new_data.csv')\n",
    "df = new_df.copy()"
   ]
  },
  {
   "cell_type": "code",
   "execution_count": 96,
   "metadata": {
    "collapsed": true
   },
   "outputs": [],
   "source": [
    "df = df.reset_index().drop('index', 1)\n",
    "df['city_lat'] = df[~df.address_rus.isnull()].test.apply(lambda x: x.split(',')[1])\n",
    "df['city_long'] = df[~df.address_rus.isnull()].test.apply(lambda x: x.split(',')[3])\n",
    "df['geo_city'] = df[~df.address_rus.isnull()].test.apply(lambda x: x.split(',')[5])\n",
    "df['region'] = df[~df.address_rus.isnull()].test.apply(lambda x: x.split(',')[7])\n",
    "df['city_lat'] = df['city_lat'].astype(str).apply(lambda x: x.replace(\"'\", ''))\n",
    "df['city_lat'] = df['city_lat'].astype(str).apply(lambda x: x.replace(\")\", ''))\n",
    "df['city_long'] = df['city_long'].astype(str).apply(lambda x: x.replace(\"'\", ''))\n",
    "df['city_long'] = df['city_long'].astype(str).apply(lambda x: x.replace(\")\", ''))\n",
    "df['geo_city'] = df['geo_city'].astype(str).apply(lambda x: x.replace(\"'\", ''))\n",
    "df['geo_city'] = df['geo_city'].astype(str).apply(lambda x: x.replace(\")\", ''))\n",
    "df['region'] = df['region'].astype(str).apply(lambda x: x.replace(\"'\", ''))\n",
    "df['region'] = df['region'].astype(str).apply(lambda x: x.replace(\")\", ''))\n",
    "df['city_lat'] = df['city_lat'].astype(float)\n",
    "df['city_long'] = df['city_long'].astype(float)"
   ]
  },
  {
   "cell_type": "code",
   "execution_count": 10,
   "metadata": {
    "collapsed": true
   },
   "outputs": [],
   "source": [
    "R = 6373.0\n",
    "def distance(x1,y1,x2,y2):    \n",
    "    dlon = y2 - y1\n",
    "    dlat = x2 - x1\n",
    "    a = sin(dlat/2)**2 + cos(x1) * cos(x2) * sin(dlon/2)**2\n",
    "    c = 2 * atan2(sqrt(a), sqrt(1 - a))\n",
    "    return R * c"
   ]
  },
  {
   "cell_type": "code",
   "execution_count": 111,
   "metadata": {
    "collapsed": true
   },
   "outputs": [],
   "source": [
    "df.to_csv('new_data_parsed.csv', index=False)\n",
    "#df = pd.read_csv('new_data_parsed.csv')"
   ]
  },
  {
   "cell_type": "code",
   "execution_count": 16,
   "metadata": {
    "collapsed": true
   },
   "outputs": [],
   "source": [
    "df['diff_from_centre'] = df[~df.address_rus.isnull()].apply(lambda x: distance(x.lat, x.long, x.city_lat, x.city_long), axis=1)\n",
    "df = df.drop('test', 1)\n",
    "df.to_csv('data_with_geo.csv')"
   ]
  },
  {
   "cell_type": "code",
   "execution_count": null,
   "metadata": {
    "collapsed": true
   },
   "outputs": [],
   "source": []
  }
 ],
 "metadata": {
  "kernelspec": {
   "display_name": "Python 3",
   "language": "python",
   "name": "python3"
  },
  "language_info": {
   "codemirror_mode": {
    "name": "ipython",
    "version": 3
   },
   "file_extension": ".py",
   "mimetype": "text/x-python",
   "name": "python",
   "nbconvert_exporter": "python",
   "pygments_lexer": "ipython3",
   "version": "3.6.3"
  }
 },
 "nbformat": 4,
 "nbformat_minor": 2
}
