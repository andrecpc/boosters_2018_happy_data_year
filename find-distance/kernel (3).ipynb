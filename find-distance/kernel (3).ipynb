{
  "cells": [
    {
      "metadata": {
        "_uuid": "8f2839f25d086af736a60e9eeb907d3b93b6e0e5",
        "_cell_guid": "b1076dfc-b9ad-4769-8c92-a6c4dae69d19",
        "trusted": true
      },
      "cell_type": "code",
      "source": "import numpy as np # linear algebra\nimport pandas as pd # data processing, CSV file I/O (e.g. pd.read_csv)\nfrom math import sin, cos, sqrt, atan2, radians\n\nimport os\nimport time\n\nprint(os.listdir(\"../input\"))",
      "execution_count": null,
      "outputs": []
    },
    {
      "metadata": {
        "_cell_guid": "79c7e3d0-c299-4dcb-8224-4455121ee9b0",
        "_uuid": "d629ff2d2480ee46fbb7e2d37f6b5fab8052498a",
        "trusted": true
      },
      "cell_type": "code",
      "source": "main_file = pd.read_excel('../input/MT.xlsx')\nmain_file.head()\n# main_file = main_file[0:500]",
      "execution_count": null,
      "outputs": []
    },
    {
      "metadata": {
        "trusted": true,
        "_uuid": "3c18d94770c0f42858306d51251cb9ee8afb8753"
      },
      "cell_type": "code",
      "source": "R = 6373.0\ndef distance(x,y):\n    try:\n        x = x.split(',')\n        y = y.split(',')\n        x[0] = float(x[0])\n        x[1] = float(x[1])\n        y[0] = float(y[0])\n        y[1] = float(y[len(y)-1])\n    except ValueError:\n        print(x,y)\n        return 100000\n    except AttributeError:\n        print(x,y)\n        return 100000\n    x = [x[0],x[1]]\n    y = [y[0],y[1]]\n    #---------------\n    lat_a, long_a, lat_b, long_b = map(radians, [*x,*y])    #[*x,*y]\n    dlon = long_b - long_a\n    dlat = lat_b - lat_a\n    a = sin(dlat/2)**2 + cos(lat_a) * cos(lat_b) * sin(dlon/2)**2\n    c = 2 * atan2(sqrt(a), sqrt(1 - a))\n    return (R * c)",
      "execution_count": null,
      "outputs": []
    },
    {
      "metadata": {
        "trusted": true,
        "_uuid": "d883582cc810cf6a8c126d93e08a1bd676460817"
      },
      "cell_type": "code",
      "source": "# x='46.940995,142.738319,'\n# x=x.split(',')\n# x[0] = float(x[0])\n# x[1] = float(x[1])\n# x=[x[0],x[1]]\n# x",
      "execution_count": null,
      "outputs": []
    },
    {
      "metadata": {
        "trusted": true,
        "_uuid": "507d7f03879db3c9f27cd881273dc9fc0e80dbd2"
      },
      "cell_type": "code",
      "source": "scep_koord = main_file['Сцеп коорд']\nscep_koord = scep_koord.dropna()\nscep_koord_v = scep_koord.values",
      "execution_count": null,
      "outputs": []
    },
    {
      "metadata": {
        "trusted": true,
        "_uuid": "9c0c6b80032ab79b78ad9e55cbfb6f9bfda471e2"
      },
      "cell_type": "code",
      "source": "cols = main_file.columns[1:31]\n\nfor col in cols:\n    f_col = main_file[col]\n    f_col = f_col.dropna()\n#     f_col.replace(\"'', '\",',')\n    f_col_v = f_col.values\n    \n    start_time = time.time()\n    \n    c50 = []\n    c100 = []\n    c250 = []\n    c500 = []\n    \n    for elem in scep_koord_v:\n        c_50 = 0\n        c_100 = 0\n        c_250 = 0\n        c_500 = 0\n        for el in f_col_v:\n            dist = distance(elem,el)\n            if dist<=0.05:\n                c_50  = c_50  + 1\n            if dist<=0.1:\n                c_100  = c_100  + 1\n            if dist<=0.25:\n                c_250  = c_250  + 1\n            if dist<=0.5:\n                c_500  = c_500  + 1\n        c50.append(c_50)\n        c100.append(c_100)\n        c250.append(c_250)\n        c500.append(c_500)\n        \n    d = {str(col)+'_50м': c50, str(col)+'_100м': c100, str(col)+'_250м': c250, str(col)+'_500м': c500}\n    new_df = pd.DataFrame(data=d)\n    \n    scep_koord = pd.concat([scep_koord, new_df], axis=1)\n\n    print(\"--- %s seconds --- \" % (time.time() - start_time), col)",
      "execution_count": null,
      "outputs": []
    },
    {
      "metadata": {
        "trusted": true,
        "_uuid": "3cca3a911346bb08bc32679993b97b44e8a6169f"
      },
      "cell_type": "code",
      "source": "scep_koord",
      "execution_count": null,
      "outputs": []
    },
    {
      "metadata": {
        "trusted": true,
        "_uuid": "68a96fed8fa8ab964441ba761245e61a50829e65"
      },
      "cell_type": "code",
      "source": "# submit = pd.DataFrame(gbm.predict(X_test), index=test_ind.index,columns=['target'])\nscep_koord.to_csv('distances_MT.csv')",
      "execution_count": null,
      "outputs": []
    }
  ],
  "metadata": {
    "kernelspec": {
      "display_name": "Python 3",
      "language": "python",
      "name": "python3"
    },
    "language_info": {
      "name": "python",
      "version": "3.6.6",
      "mimetype": "text/x-python",
      "codemirror_mode": {
        "name": "ipython",
        "version": 3
      },
      "pygments_lexer": "ipython3",
      "nbconvert_exporter": "python",
      "file_extension": ".py"
    }
  },
  "nbformat": 4,
  "nbformat_minor": 1
}